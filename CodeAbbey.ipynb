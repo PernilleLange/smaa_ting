{
 "cells": [
  {
   "cell_type": "code",
   "execution_count": null,
   "metadata": {},
   "outputs": [],
   "source": [
    "# Sum \"A + B\"\n",
    "a, b = input().split()\n",
    "print(int(a) + int(b))"
   ]
  },
  {
   "cell_type": "code",
   "execution_count": null,
   "metadata": {},
   "outputs": [],
   "source": [
    "# Sum in Loop\n",
    "input_array = input().split()\n",
    "total = 0\n",
    "for x in range(1,int(input_array[0])+1):\n",
    "    total = total + int(input_array[x])\n",
    "print(total)"
   ]
  },
  {
   "cell_type": "code",
   "execution_count": null,
   "metadata": {},
   "outputs": [],
   "source": [
    "#Sums in Loop\n",
    "input_array = input().split()\n",
    "pairs_to_take = int(input_array[0])\n",
    "index = 1\n",
    "while pairs_to_take > 0:\n",
    "    pair = int(input_array[index]) + int(input_array[index + 1])\n",
    "    print(pair, end = ' ')\n",
    "    index += 2\n",
    "    pairs_to_take -= 1"
   ]
  },
  {
   "cell_type": "code",
   "execution_count": null,
   "metadata": {},
   "outputs": [],
   "source": [
    "#Minimum of Two\n",
    "input_array = input().split()\n",
    "pairs_to_take = int(input_array[0])\n",
    "index = 1\n",
    "while pairs_to_take > 0:\n",
    "    pair = [int(input_array[index]), int(input_array[index + 1])]\n",
    "    if pair[0] < pair [1]:\n",
    "        print(pair[0], end = ' ')\n",
    "    else:\n",
    "        print(pair[1], end = ' ')\n",
    "    index += 2\n",
    "    pairs_to_take -= 1"
   ]
  },
  {
   "cell_type": "code",
   "execution_count": null,
   "metadata": {},
   "outputs": [],
   "source": [
    "#Minimum of Three\n",
    "input_array = input().split()\n",
    "triple_to_take = int(input_array[0])\n",
    "index = 1\n",
    "while triple_to_take > 0:\n",
    "    triple_min = [int(input_array[index]), int(input_array[index + 1]), int(input_array[index + 2])]\n",
    "    print(min(triple_min), end = ' ')\n",
    "    index += 3\n",
    "    triple_to_take -= 1"
   ]
  },
  {
   "cell_type": "code",
   "execution_count": null,
   "metadata": {},
   "outputs": [],
   "source": [
    "#Maximum of Array\n",
    "input_array = [int(x) for x in input().split()]\n",
    "maximum = input_array[0]\n",
    "minimum = input_array[0]\n",
    "for x in input_array:\n",
    "    if x > maximum:\n",
    "        maximum = x\n",
    "    elif x < minimum:\n",
    "        minimum = x\n",
    "print(str(maximum) + ' ' + str(minimum))"
   ]
  },
  {
   "cell_type": "code",
   "execution_count": null,
   "metadata": {},
   "outputs": [],
   "source": [
    "#Rounding\n",
    "input_array = [int(x) for x in input().split()]\n",
    "index = 1\n",
    "for x in range(int(input_array[0])):\n",
    "    result = str(input_array[index] / input_array[index+1])\n",
    "    if \".\" in result:\n",
    "        decimal = result.split('.')[1]\n",
    "        decimal_check = int(decimal[0])\n",
    "        if decimal_check < 5:\n",
    "            result = int(result.split('.')[0])\n",
    "        elif decimal_check >= 5:\n",
    "            result = int(result.split('.')[0]) + 1\n",
    "        print(result, end = ' ')\n",
    "    index += 2\n",
    "    "
   ]
  },
  {
   "cell_type": "code",
   "execution_count": null,
   "metadata": {},
   "outputs": [],
   "source": [
    "import math\n",
    "#Rounding\n",
    "input_array = [int(x) for x in input().split()]\n",
    "index = 1\n",
    "for x in range(input_array[0]):\n",
    "    result = input_array[index] / input_array[index+1]\n",
    "    decimal_remain = result % 1\n",
    "    if decimal_remain >= 0.5:\n",
    "        print(math.ceil(result), end = ' ')\n",
    "    else:\n",
    "        print(math.floor(result), end = ' ')\n",
    "    index += 2\n"
   ]
  },
  {
   "cell_type": "code",
   "execution_count": null,
   "metadata": {},
   "outputs": [],
   "source": [
    "#Fahrenheit to Celcius\n",
    "import math\n",
    "input_array = [int(x) for x in input().split()]\n",
    "index = 1\n",
    "for x in range(input_array[0]):\n",
    "    result = (input_array[index] - 32) * (5/9)\n",
    "    decimal_remain = result % 1\n",
    "    if decimal_remain >= 0.5:\n",
    "        print(math.ceil(result), end = ' ')\n",
    "    else:\n",
    "        print(math.floor(result), end = ' ')\n",
    "    index += 1"
   ]
  },
  {
   "cell_type": "code",
   "execution_count": null,
   "metadata": {},
   "outputs": [],
   "source": [
    "#Vowel count\n",
    "\n",
    "input_array = input().split('\\n')\n",
    "vowels = ['a', 'o', 'u', 'i', 'e', 'y']\n",
    "for line in input_array:\n",
    "    count = 0\n",
    "    for char in line:\n",
    "        if char in vowels:\n",
    "            count += 1\n",
    "    print(count, end = ' ')"
   ]
  },
  {
   "cell_type": "code",
   "execution_count": null,
   "metadata": {},
   "outputs": [],
   "source": [
    "#Sum of digits\n",
    "def remainderfunc(x):\n",
    "    remainder_array = []\n",
    "    while x >= 1:\n",
    "        rem = x % 10\n",
    "        remainder_array.append(int(rem))\n",
    "        x = (x - rem) / 10 \n",
    "    return remainder_array\n",
    "\n",
    "input_array = [int(x) for x in input().split()]\n",
    "triple_to_take = input_array[0]\n",
    "index = 1\n",
    "while triple_to_take > 0:\n",
    "    first_sum = input_array[index] * input_array[index + 1] + input_array[index + 2]\n",
    "    remainder = sum(remainderfunc(first_sum))\n",
    "    \n",
    "    print(remainder, end = ' ')\n",
    "    index += 3\n",
    "    triple_to_take -= 1"
   ]
  },
  {
   "cell_type": "code",
   "execution_count": null,
   "metadata": {},
   "outputs": [],
   "source": [
    "#Arithmetic progression\n",
    "input_array = [int(x) for x in input().split()]\n",
    "triples_to_take = input_array[0]\n",
    "index = 1\n",
    "while triples_to_take > 0:\n",
    "    prelim = input_array[index]\n",
    "    fin = prelim\n",
    "    for times in range(input_array[index + 2]-1):\n",
    "        prelim += input_array[index + 1]\n",
    "        fin += prelim\n",
    "    print(fin, end = ' ')\n",
    "    index += 3\n",
    "    triples_to_take -= 1"
   ]
  },
  {
   "cell_type": "code",
   "execution_count": null,
   "metadata": {},
   "outputs": [],
   "source": [
    "#Median of three\n",
    "input_array = [int(x) for x in input().split()]\n",
    "triples_to_take = input_array[0]\n",
    "index = 1\n",
    "while triples_to_take > 0:\n",
    "    median = [input_array[index], input_array[index + 1], input_array[index + 2]]\n",
    "    median.remove(min(median))\n",
    "    median.remove(max(median))\n",
    "    print(median[0], end = ' ')\n",
    "    index += 3\n",
    "    triples_to_take -= 1"
   ]
  },
  {
   "cell_type": "code",
   "execution_count": null,
   "metadata": {},
   "outputs": [],
   "source": [
    "#Body Mass Index\n",
    "input_array = [float(x) for x in input().split()]\n",
    "pairs_to_take = input_array[0]\n",
    "index = 1\n",
    "while pairs_to_take > 0:\n",
    "    BMI = input_array[index] / input_array[index+1]**2\n",
    "    if BMI < 18.5:\n",
    "        print('under', end = ' ')\n",
    "    elif BMI >= 18.5 and BMI < 25.0:\n",
    "        print('normal', end = ' ')\n",
    "    elif BMI >= 25.0 and BMI < 30.0:\n",
    "        print('over', end = ' ')\n",
    "    elif BMI >= 30.0:\n",
    "        print('obese', end = ' ')\n",
    "    index += 2\n",
    "    pairs_to_take -= 1"
   ]
  },
  {
   "cell_type": "code",
   "execution_count": null,
   "metadata": {},
   "outputs": [],
   "source": [
    "#Triangles\n",
    "input_array = [int(x) for x in input().split()]\n",
    "triples_to_take = input_array[0]\n",
    "index = 1\n",
    "while triples_to_take > 0:\n",
    "    a = input_array[index]\n",
    "    b = input_array[index+1] \n",
    "    c = input_array[index+2]\n",
    "    if (a+b >= c) and (b+c >= a) and (a+c >= b):\n",
    "        print(1, end = ' ')\n",
    "    else:\n",
    "        print(0, end = ' ')\n",
    "    index += 3\n",
    "    triples_to_take -= 1"
   ]
  },
  {
   "cell_type": "code",
   "execution_count": null,
   "metadata": {
    "scrolled": true
   },
   "outputs": [],
   "source": [
    "#Weighted sum of digits\n",
    "input_array = [int(x) for x in input().split()]\n",
    "index = 1\n",
    "for x in range(input_array[0]):\n",
    "    sum_str = str(input_array[index])\n",
    "    length = len(sum_str)\n",
    "    result = []\n",
    "    sum_index = 0\n",
    "    for times in range(length):\n",
    "        result.append(int(sum_str[sum_index]) * (sum_index + 1))\n",
    "        sum_index += 1\n",
    "    print(sum(result))\n",
    "    index+=1"
   ]
  },
  {
   "cell_type": "code",
   "execution_count": null,
   "metadata": {},
   "outputs": [],
   "source": [
    "#Average of an array\n",
    "import math\n",
    "\n",
    "input_array = [int(x) for x in input().split()]\n",
    "\n",
    "prelim_cases = input_array[1:]\n",
    "case = []\n",
    "for num in prelim_cases:\n",
    "    if num != 0:\n",
    "        case.append(num)\n",
    "    else:\n",
    "        result = sum(case) / len(case)\n",
    "        decimal_remain = result % 1\n",
    "        if decimal_remain >= 0.5:\n",
    "            print(math.ceil(result), end = ' ')\n",
    "        else:\n",
    "            print(math.floor(result), end = ' ')\n",
    "        case = []\n",
    "\n"
   ]
  },
  {
   "cell_type": "code",
   "execution_count": null,
   "metadata": {},
   "outputs": [],
   "source": [
    "#Dice Rolling\n",
    "import math\n",
    "\n",
    "input_array = [float(x) for x in input().split()]\n",
    "\n",
    "for num in input_array[1:]:\n",
    "    print(math.ceil(num * 6))"
   ]
  },
  {
   "cell_type": "code",
   "execution_count": null,
   "metadata": {},
   "outputs": [],
   "source": [
    "#Array Checksum\n",
    "def array_checksum(x):\n",
    "    input_array = [int(x) for x in input().split()][1:]\n",
    "    result = 0\n",
    "\n",
    "    for num in input_array:\n",
    "        result = ((result + num) * 113) % 10000007\n",
    "\n",
    "    print(result)"
   ]
  },
  {
   "cell_type": "code",
   "execution_count": null,
   "metadata": {},
   "outputs": [],
   "source": [
    "#Reverse String\n",
    "input()[::-1]"
   ]
  },
  {
   "cell_type": "code",
   "execution_count": null,
   "metadata": {},
   "outputs": [],
   "source": [
    "#Linear Function\n",
    "input_array = [int(x) for x in input().split()]\n",
    "index = 1\n",
    "\n",
    "for times in range(input_array[0]):\n",
    "    a = int((input_array[index + 3] - input_array[index + 1]) / (input_array[index + 2] - input_array[index]))\n",
    "    b = int(input_array[index + 1] - (input_array[index] * a))\n",
    "    print(f'({a} {b})', end = ' ')\n",
    "    index += 4"
   ]
  },
  {
   "cell_type": "code",
   "execution_count": null,
   "metadata": {},
   "outputs": [],
   "source": [
    "#Modulo and time difference\n",
    "\n",
    "input_array = [int(x) for x in input().split()]\n",
    "index = 1\n",
    "\n",
    "for times in range(input_array[0]):\n",
    "    timestamp_day1 = input_array[index]*86400 + input_array[index+1]*3600 + input_array[index+2]*60 + input_array[index+3]\n",
    "    timestamp_day2 = input_array[index+4]*86400 + input_array[index+5]*3600 + input_array[index+6]*60 + input_array[index+7]\n",
    "    difference = timestamp_day2 - timestamp_day1\n",
    "    leftover1 = difference % 86400\n",
    "    days = int((difference - leftover1) / 86400)\n",
    "    leftover2 = leftover1 % 3600\n",
    "    hours = int((leftover1 - leftover2) / 3600)\n",
    "    leftover3 = leftover2 % 60\n",
    "    minutes = int((leftover2 - leftover3) / 60)\n",
    "    print(f'({days} {hours} {minutes} {leftover3})', end = ' ')\n",
    "    \n",
    "    index+=8"
   ]
  },
  {
   "cell_type": "code",
   "execution_count": null,
   "metadata": {},
   "outputs": [],
   "source": [
    "# Modulo calculator\n",
    "\n",
    "item = input().split()\n",
    "index = 0\n",
    "result = int(item[0])\n",
    "\n",
    "for times in range(int(len(item)/2)):\n",
    "    if item[index+1] == '+':\n",
    "        result = result + int(item[index+2])\n",
    "        index += 2\n",
    "    elif item[index+1] == '*':\n",
    "        result = result * int(item[index+2])\n",
    "        index += 2\n",
    "    elif item[index+1] == '%':\n",
    "        result = result % int(item[-1])\n",
    "        print(result)\n"
   ]
  },
  {
   "cell_type": "code",
   "execution_count": null,
   "metadata": {},
   "outputs": [],
   "source": [
    "# Array counters\n",
    "\n",
    "input_array = [int(x) for x in input().split()]\n",
    "counter_dict = dict.fromkeys(range(1,(input_array[1]+1)))\n",
    "\n",
    "for num in input_array[2:]:\n",
    "    if counter_dict[num] == None:\n",
    "        counter_dict[num] = 1\n",
    "    else:\n",
    "        counter_dict[num] += 1\n",
    "for num in counter_dict:\n",
    "    print(counter_dict[num], end = ' ')\n"
   ]
  },
  {
   "cell_type": "code",
   "execution_count": null,
   "metadata": {},
   "outputs": [],
   "source": [
    "# Collatz sequence\n",
    "\n",
    "input_array = [int(x) for x in input().split()]\n",
    "\n",
    "for num in input_array[1:]:\n",
    "    counter = 0\n",
    "    while num != 1:\n",
    "        if num % 2 == 0:\n",
    "            num = num / 2\n",
    "            counter += 1\n",
    "           \n",
    "        else:\n",
    "            num = num * 3 + 1\n",
    "            counter += 1\n",
    "    print(counter, end = ' ')\n",
    "    \n",
    "        \n"
   ]
  },
  {
   "cell_type": "code",
   "execution_count": null,
   "metadata": {},
   "outputs": [],
   "source": [
    "# Square Root\n",
    "\n",
    "input_array = [int(x) for x in input().split()]\n",
    "index = 0\n",
    "\n",
    "\n",
    "for times in range(input_array[0]):\n",
    "    sqrt = 1\n",
    "    for times in range(input_array[index + 2]):\n",
    "        sqrt = (sqrt + input_array[index + 1] / sqrt) / 2\n",
    "    index += 2\n",
    "    print(sqrt, end = ' ')"
   ]
  },
  {
   "cell_type": "code",
   "execution_count": null,
   "metadata": {},
   "outputs": [],
   "source": [
    "# Two Printers – hugget fra Steffen\n",
    "\n",
    "import math\n",
    "\n",
    "input_array = [int(x) for x in input().split()]\n",
    "index = 0\n",
    "\n",
    "for times in range(input_array[0]):\n",
    "    x = input_array[index + 1]\n",
    "    y = input_array[index + 2]\n",
    "    n = input_array[index + 3]\n",
    "    \n",
    "        \n",
    "    fastest_rate = min(x, y)\n",
    "    slowest_rate = max(x, y)\n",
    "\n",
    "    first_result = math.ceil(n / (1 + fastest_rate / slowest_rate)) * fastest_rate\n",
    "    second_result = math.ceil(n / (1 + slowest_rate / fastest_rate)) * slowest_rate\n",
    "    \n",
    "    print(min(first_result, second_result), end = ' ')\n",
    "   \n",
    "    index += 3\n",
    "    "
   ]
  },
  {
   "cell_type": "code",
   "execution_count": null,
   "metadata": {},
   "outputs": [],
   "source": [
    "# Bubble in array\n",
    "    \n",
    "bubble_array = [int(x) for x in input().split()]\n",
    "swaps = 0\n",
    "index = 0\n",
    "result = 0\n",
    "\n",
    "for num in bubble_array[:-2]:\n",
    "    if bubble_array[index] > bubble_array[index + 1]:\n",
    "        bubble_array[index], bubble_array[index + 1] = bubble_array[index +1 ], bubble_array[index]\n",
    "        swaps += 1\n",
    "        index += 1\n",
    "    else:\n",
    "        index += 1\n",
    "\n",
    "\n",
    "for num in bubble_array[:-1]:\n",
    "    \n",
    "    result = ((result + num) * 113) % 10000007\n",
    "\n",
    "print(swaps, result, end = ' ')"
   ]
  },
  {
   "cell_type": "code",
   "execution_count": null,
   "metadata": {},
   "outputs": [],
   "source": [
    "# Bubble sort\n",
    "\n",
    "bubble_array = [int(x) for x in input().split()]\n",
    "swaps = 0\n",
    "passes = 0\n",
    "swapcheck = False\n",
    "\n",
    "\n",
    "while swapcheck is False:\n",
    "    index = 1\n",
    "    swaps_in_iter = 0\n",
    "    for num in bubble_array[1:-1]:\n",
    "        if bubble_array[index] > bubble_array[index + 1]:\n",
    "            bubble_array[index], bubble_array[index + 1] = bubble_array[index +1 ], bubble_array[index]\n",
    "            swaps += 1\n",
    "            swaps_in_iter += 1\n",
    "        \n",
    "        index += 1\n",
    "    swapcheck = swaps_in_iter == 0\n",
    "    passes += 1\n",
    "            \n",
    "\n",
    "    \n",
    "print(bubble_array)\n",
    "print(passes, swaps)"
   ]
  },
  {
   "cell_type": "code",
   "execution_count": null,
   "metadata": {},
   "outputs": [],
   "source": [
    "#Største fællesnævner med Euklids algoritme + mindste multiplikator\n",
    "\n",
    "input_array = [int(x) for x in input().split()]\n",
    "index = 0\n",
    "\n",
    "\n",
    "for times in range(input_array[0]):\n",
    "    a = input_array[index+1]\n",
    "    b = input_array[index+2]\n",
    "    \n",
    "    if a < b:\n",
    "        a,b = b,a\n",
    "    r = a % b\n",
    "    aa = a\n",
    "    bb = b\n",
    "    while r != 0:\n",
    "        a = b\n",
    "        b = r\n",
    "        r = a % b \n",
    "    lcm = int(aa * bb / b)\n",
    "    print('(' + str(b) + ' ' + str(lcm) + ')', end = ' ')\n",
    "    index += 2\n",
    "\n",
    "        "
   ]
  },
  {
   "cell_type": "code",
   "execution_count": null,
   "metadata": {},
   "outputs": [],
   "source": [
    "#Matching Brackets – virker i terminal\n",
    "\n",
    "input_cases = []\n",
    "while True:\n",
    "    line = input()\n",
    "    if line:\n",
    "        input_cases.append(line)\n",
    "    else:\n",
    "        break\n",
    "starters = ['(', '{', '[', '<']\n",
    "closers = [')', '}', ']', '>']\n",
    "#parentheses = {'(' : ')', '{' : '}', '[' : ']'}\n",
    "\n",
    "\n",
    "for case in input_cases[1:]:\n",
    "    result = 1\n",
    "    starter_stack = []\n",
    "    #print(case)\n",
    "    for char in case:\n",
    "        \n",
    "        if char in starters:\n",
    "            starter_stack.append(char)\n",
    "            #print(starter_stack)\n",
    "        elif char in closers:\n",
    "            index = closers.index(char)\n",
    "            if len(starter_stack) == 0 or starter_stack.pop() != starters[index]:\n",
    "                result = 0\n",
    "            #print(starter_stack)\n",
    "    if len(starter_stack) > 0:\n",
    "        result = 0\n",
    "                \n",
    "    print(result, end = ' ')\n",
    "    #print(starter_stack)"
   ]
  },
  {
   "cell_type": "code",
   "execution_count": null,
   "metadata": {},
   "outputs": [],
   "source": [
    "#Neumann's Random Generator\n",
    "#3 0001 4100 5761\n",
    "import math\n",
    "\n",
    "input_array = [int(x) for x in input().split()]\n",
    "\n",
    "for num in input_array[1:]:\n",
    "    counter = 1\n",
    "    result = math.floor(num**2/100%10000)\n",
    "    result_set = set([num])\n",
    "    \n",
    "    while result not in result_set:\n",
    "        result_set.add(result)\n",
    "        result = math.floor(result**2/100%10000)\n",
    "        counter +=1\n",
    "        #continue\n",
    "    print(counter, end = ' ')"
   ]
  },
  {
   "cell_type": "code",
   "execution_count": null,
   "metadata": {},
   "outputs": [],
   "source": [
    "#Rotate string\n",
    "input_array = [x for x in input().split()]\n",
    "index = 1\n",
    "\n",
    "for times in range(int(input_array[0])):\n",
    "    print(input_array[index + 1][int(input_array[index]):] + input_array[index + 1][:int(input_array[index])], end = ' ')\n",
    "    index += 2"
   ]
  },
  {
   "cell_type": "code",
   "execution_count": null,
   "metadata": {},
   "outputs": [],
   "source": [
    "#Pythagorean Theorem\n",
    "#input data: 3 6 8 9 9 12 15 16 12 22\n",
    "#answer: A R O\n",
    "\n",
    "input_array = [int(x) for x in input().split()]\n",
    "index = 1\n",
    "\n",
    "for times in range(input_array[0]):\n",
    "    a = input_array[index]\n",
    "    b = input_array[index+1]\n",
    "    c = input_array[index+2]\n",
    "    if a**2 + b**2 > c**2:\n",
    "        print('A', end = ' ')\n",
    "    elif a**2 + b**2 < c**2:\n",
    "        print('O', end = ' ')\n",
    "    else:\n",
    "        print('R', end = ' ')\n",
    "    index += 3"
   ]
  },
  {
   "cell_type": "code",
   "execution_count": null,
   "metadata": {},
   "outputs": [],
   "source": [
    "#Palindromes\n",
    "#input data: 3 Stars O, a kak Uwakov lil vo kawu kakao! Some men interpret nine memos\n",
    "#answer: N Y Y\n",
    "#virker i Terminal\n",
    "\n",
    "input_array = []\n",
    "while True:\n",
    "    line = input()\n",
    "    if line:\n",
    "        input_array.append(line)\n",
    "    else:\n",
    "        break\n",
    "index = 1\n",
    "\n",
    "for times in range(int(input_array[0])):\n",
    "    string_to_check = ''\n",
    "    for char in input_array[index]:\n",
    "        if char.isalpha():\n",
    "            string_to_check += char.lower()\n",
    "    if string_to_check[::] == string_to_check[::-1]:\n",
    "        print('Y', end = ' ')\n",
    "    else:\n",
    "        print('N', end = ' ')\n",
    "    index += 1"
   ]
  },
  {
   "cell_type": "code",
   "execution_count": 69,
   "metadata": {},
   "outputs": [
    {
     "name": "stdout",
     "output_type": "stream",
     "text": [
      "[[3, -3], [-3, 3]]\n"
     ]
    }
   ],
   "source": [
    "test1 = [[1, -2], [-3, 4]]\n",
    "test2 = [[2, -1], [0, -1]]\n",
    "\n",
    "\n",
    "def add(matrix1, matrix2):\n",
    "    result = []\n",
    "    for x,y in zip(matrix1, matrix2):\n",
    "        inner_result = []\n",
    "        for a,b in zip(x,y):\n",
    "            inner_result.append(a+b)\n",
    "        result.append(inner_result)\n",
    "    return(result)\n",
    "\n",
    "print(add(test1, test2))"
   ]
  },
  {
   "cell_type": "code",
   "execution_count": 43,
   "metadata": {},
   "outputs": [
    {
     "name": "stdout",
     "output_type": "stream",
     "text": [
      "{'Pernille': 2, 'Steffen': 1, 'Cecilia': 3}\n"
     ]
    },
    {
     "ename": "KeyError",
     "evalue": "0",
     "output_type": "error",
     "traceback": [
      "\u001b[0;31m---------------------------------------------------------------------------\u001b[0m",
      "\u001b[0;31mKeyError\u001b[0m                                  Traceback (most recent call last)",
      "\u001b[0;32m<ipython-input-43-850376a86970>\u001b[0m in \u001b[0;36m<module>\u001b[0;34m\u001b[0m\n\u001b[1;32m      7\u001b[0m \u001b[0mprint\u001b[0m\u001b[0;34m(\u001b[0m\u001b[0mthisisdict\u001b[0m\u001b[0;34m)\u001b[0m\u001b[0;34m\u001b[0m\u001b[0;34m\u001b[0m\u001b[0m\n\u001b[1;32m      8\u001b[0m \u001b[0mthisisdict\u001b[0m\u001b[0;34m[\u001b[0m\u001b[0;34m'Pernille'\u001b[0m\u001b[0;34m]\u001b[0m \u001b[0;34m+=\u001b[0m\u001b[0;36m4\u001b[0m\u001b[0;34m\u001b[0m\u001b[0;34m\u001b[0m\u001b[0m\n\u001b[0;32m----> 9\u001b[0;31m \u001b[0mprint\u001b[0m\u001b[0;34m(\u001b[0m\u001b[0mthisisdict\u001b[0m\u001b[0;34m[\u001b[0m\u001b[0;36m0\u001b[0m\u001b[0;34m]\u001b[0m\u001b[0;34m)\u001b[0m\u001b[0;34m\u001b[0m\u001b[0;34m\u001b[0m\u001b[0m\n\u001b[0m",
      "\u001b[0;31mKeyError\u001b[0m: 0"
     ]
    }
   ],
   "source": [
    "thisisdict = {}\n",
    "\n",
    "thisisdict['Pernille'] = 2\n",
    "thisisdict['Steffen'] = 1\n",
    "\n",
    "thisisdict['Cecilia'] = 3\n",
    "print(thisisdict)\n",
    "thisisdict['Pernille'] +=4\n"
   ]
  },
  {
   "cell_type": "code",
   "execution_count": 28,
   "metadata": {},
   "outputs": [
    {
     "data": {
      "text/plain": [
       "13"
      ]
     },
     "execution_count": 28,
     "metadata": {},
     "output_type": "execute_result"
    }
   ],
   "source": [
    "max(13,13)"
   ]
  },
  {
   "cell_type": "code",
   "execution_count": 75,
   "metadata": {},
   "outputs": [
    {
     "name": "stdout",
     "output_type": "stream",
     "text": [
      "8\n",
      "8\n"
     ]
    }
   ],
   "source": [
    "import math\n",
    "\n",
    "class Circle:\n",
    "\n",
    "    def __init__(self, radius = 1):\n",
    "        self.radius = radius\n",
    "        self.diameter = radius * 2\n",
    "        self.area = radius**2 * math.pi\n",
    "\n",
    "    def __repr__(self):\n",
    "        return f'Circle({self.radius})'\n",
    "\n",
    "test = Circle(4)\n",
    "test_diameter = test.diameter\n",
    "print(test_diameter)\n",
    "test.radius = 5\n",
    "print(test_diameter)"
   ]
  },
  {
   "cell_type": "code",
   "execution_count": null,
   "metadata": {},
   "outputs": [],
   "source": []
  }
 ],
 "metadata": {
  "kernelspec": {
   "display_name": "Python 3",
   "language": "python",
   "name": "python3"
  },
  "language_info": {
   "codemirror_mode": {
    "name": "ipython",
    "version": 3
   },
   "file_extension": ".py",
   "mimetype": "text/x-python",
   "name": "python",
   "nbconvert_exporter": "python",
   "pygments_lexer": "ipython3",
   "version": "3.7.4"
  }
 },
 "nbformat": 4,
 "nbformat_minor": 2
}
