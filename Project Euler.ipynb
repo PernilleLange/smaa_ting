{
 "cells": [
  {
   "cell_type": "code",
   "execution_count": 18,
   "metadata": {},
   "outputs": [
    {
     "name": "stdout",
     "output_type": "stream",
     "text": [
      "233168\n"
     ]
    }
   ],
   "source": [
    "#Multiples of 3 and 5\n",
    "multiples = 0\n",
    "\n",
    "for num in range(1,1000):\n",
    "    if num%3 == 0 and num%5 == 0:\n",
    "        multiples += num\n",
    "    elif num%3 == 0:\n",
    "        multiples += num\n",
    "    elif num%5 == 0:\n",
    "        multiples += num \n",
    "        \n",
    "print(multiples)"
   ]
  },
  {
   "cell_type": "code",
   "execution_count": 17,
   "metadata": {},
   "outputs": [
    {
     "name": "stdout",
     "output_type": "stream",
     "text": [
      "4613732\n"
     ]
    }
   ],
   "source": [
    "#Fibonacci evens\n",
    "fibonacci = [1,2]\n",
    "fibonacci_evens = 2\n",
    "\n",
    "for times in range(1,4000000):\n",
    "    if fibonacci[-2] + fibonacci[-1] <= 4000000:\n",
    "        if (fibonacci[-2] + fibonacci[-1]) % 2 == 0:\n",
    "            fibonacci_evens += (fibonacci[-2] + fibonacci[-1])\n",
    "        fibonacci.append(fibonacci[-2] + fibonacci[-1])\n",
    "print(fibonacci_evens)"
   ]
  },
  {
   "cell_type": "code",
   "execution_count": 59,
   "metadata": {},
   "outputs": [
    {
     "ename": "KeyboardInterrupt",
     "evalue": "",
     "output_type": "error",
     "traceback": [
      "\u001b[0;31m---------------------------------------------------------------------------\u001b[0m",
      "\u001b[0;31mKeyboardInterrupt\u001b[0m                         Traceback (most recent call last)",
      "\u001b[0;32m<ipython-input-59-cd8f5f77f294>\u001b[0m in \u001b[0;36m<module>\u001b[0;34m\u001b[0m\n\u001b[1;32m     15\u001b[0m \u001b[0;34m\u001b[0m\u001b[0m\n\u001b[1;32m     16\u001b[0m \u001b[0;32mfor\u001b[0m \u001b[0mnum\u001b[0m \u001b[0;32min\u001b[0m \u001b[0mrange\u001b[0m\u001b[0;34m(\u001b[0m\u001b[0;36m1\u001b[0m\u001b[0;34m,\u001b[0m\u001b[0;36m300425737571\u001b[0m\u001b[0;34m,\u001b[0m\u001b[0;36m2\u001b[0m\u001b[0;34m)\u001b[0m\u001b[0;34m:\u001b[0m\u001b[0;34m\u001b[0m\u001b[0;34m\u001b[0m\u001b[0m\n\u001b[0;32m---> 17\u001b[0;31m     \u001b[0;32mif\u001b[0m \u001b[0;36m600851475143\u001b[0m\u001b[0;34m%\u001b[0m\u001b[0mnum\u001b[0m \u001b[0;34m==\u001b[0m \u001b[0;36m0\u001b[0m\u001b[0;34m:\u001b[0m\u001b[0;34m\u001b[0m\u001b[0;34m\u001b[0m\u001b[0m\n\u001b[0m\u001b[1;32m     18\u001b[0m         \u001b[0;32mif\u001b[0m \u001b[0mis_prime\u001b[0m\u001b[0;34m(\u001b[0m\u001b[0mnum\u001b[0m\u001b[0;34m)\u001b[0m\u001b[0;34m:\u001b[0m\u001b[0;34m\u001b[0m\u001b[0;34m\u001b[0m\u001b[0m\n\u001b[1;32m     19\u001b[0m             \u001b[0mprime_factors\u001b[0m \u001b[0;34m=\u001b[0m \u001b[0mnum\u001b[0m\u001b[0;34m\u001b[0m\u001b[0;34m\u001b[0m\u001b[0m\n",
      "\u001b[0;31mKeyboardInterrupt\u001b[0m: "
     ]
    }
   ],
   "source": [
    "#meget langsom\n",
    "import math\n",
    "\n",
    "def is_prime(num):\n",
    "    '''\n",
    "    Better method of checking for primes. \n",
    "    '''\n",
    "    if num <= 1 or (num % 2 == 0 and num > 2): \n",
    "        return False\n",
    "    for i in range(3, int(math.sqrt(num)) + 1, 2):\n",
    "        if num % i == 0:\n",
    "            return False\n",
    "    return True\n",
    "\n",
    "prime_factors = []\n",
    "\n",
    "for num in range(1,300425737571,2):\n",
    "    if 600851475143%num == 0:\n",
    "        if is_prime(num):\n",
    "            prime_factors = num\n",
    "print(prime_factors)"
   ]
  },
  {
   "cell_type": "code",
   "execution_count": 63,
   "metadata": {},
   "outputs": [
    {
     "name": "stdout",
     "output_type": "stream",
     "text": [
      "6857.0\n"
     ]
    }
   ],
   "source": [
    "A = 600851475143\n",
    "B = 2\n",
    "C = 0\n",
    "while A != B:\n",
    "    if A % B != 0:\n",
    "        B += 1\n",
    "    elif A%B == 0:\n",
    "        C = B\n",
    "        A = A/B\n",
    "        B = 2\n",
    "print(A)\n",
    "\n",
    " "
   ]
  },
  {
   "cell_type": "code",
   "execution_count": 120,
   "metadata": {},
   "outputs": [
    {
     "name": "stdout",
     "output_type": "stream",
     "text": [
      "906609\n"
     ]
    }
   ],
   "source": [
    "#Largest palindrome product\n",
    "result_array = []\n",
    "num2 = 999\n",
    "result = 10000\n",
    "while str(result)[::] != str(result)[::-1]:\n",
    "    for num in range(1000, 100, -1):\n",
    "        result = num * num2\n",
    "        if str(result)[::] == str(result)[::-1]:\n",
    "            result_array.append(result)\n",
    "    num2 -= 1\n",
    "print(max(result_array))"
   ]
  },
  {
   "cell_type": "code",
   "execution_count": 136,
   "metadata": {},
   "outputs": [
    {
     "name": "stdout",
     "output_type": "stream",
     "text": [
      "232792560\n"
     ]
    }
   ],
   "source": [
    "#smallest multiple\n",
    "\n",
    "num_array = []\n",
    "    \n",
    "for num in range(1,500000000):\n",
    "    if num%20 == num%19 == num%18 == num%17 == num%16 == num%15 == num%14 == num%13 == num%12 == num%11 == num%10 \\\n",
    "    == num%9 == num%8 == num%7 == num%6 == num%5 == num%4 == num%3 == num%2 == 0:\n",
    "        num_array.append(num)\n",
    "print(min(num_array))\n"
   ]
  },
  {
   "cell_type": "code",
   "execution_count": 130,
   "metadata": {},
   "outputs": [
    {
     "data": {
      "text/plain": [
       "False"
      ]
     },
     "execution_count": 130,
     "metadata": {},
     "output_type": "execute_result"
    }
   ],
   "source": [
    "num = 5040\n",
    "num%20 == num%19 == num%18 == num%17 == num%16 == num%15 == num%14 == num%13 == num%12 == num%11 == num%10 \\\n",
    "    == num%9 == num%8 == num%7 == num%6 == num%5 == num%4 == num%3 == num%2 == 0"
   ]
  },
  {
   "cell_type": "code",
   "execution_count": null,
   "metadata": {},
   "outputs": [],
   "source": []
  }
 ],
 "metadata": {
  "kernelspec": {
   "display_name": "Python 3",
   "language": "python",
   "name": "python3"
  },
  "language_info": {
   "codemirror_mode": {
    "name": "ipython",
    "version": 3
   },
   "file_extension": ".py",
   "mimetype": "text/x-python",
   "name": "python",
   "nbconvert_exporter": "python",
   "pygments_lexer": "ipython3",
   "version": "3.7.4"
  }
 },
 "nbformat": 4,
 "nbformat_minor": 2
}
